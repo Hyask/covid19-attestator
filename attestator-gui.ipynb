{
 "cells": [
  {
   "cell_type": "code",
   "execution_count": null,
   "metadata": {},
   "outputs": [],
   "source": [
    "import ipywidgets as widgets\n",
    "from ipywidgets import GridspecLayout, Layout, HBox, VBox\n",
    "from datetime import datetime, timedelta\n",
    "from IPython.display import IFrame, display\n",
    "from attestator import generate_pdf\n",
    "import pickle\n",
    "import io\n",
    "#import PyPDF2"
   ]
  },
  {
   "cell_type": "code",
   "execution_count": null,
   "metadata": {},
   "outputs": [],
   "source": [
    "# Define all widgets\n",
    "use_defaults = False\n",
    "try:\n",
    "    with open('user_data', 'rb') as f:\n",
    "        user_data = pickle.load(f)\n",
    "    date_str = str(user_data[\"birth_year\"]) +'-'+ str(user_data[\"birth_month\"]) +'-'+ str(user_data[\"birth_day\"])\n",
    "    saved_birth_date = datetime.strptime(date_str, '%Y-%m-%d')\n",
    "except:\n",
    "    use_defaults = True\n",
    "\n",
    "largeur = '70%'\n",
    "\n",
    "first_name = widgets.Text(\n",
    "    value='' if use_defaults else user_data[\"first_name\"],\n",
    "    placeholder='Jean',\n",
    "    description='Prénom:',\n",
    "    disabled=False,\n",
    "    layout = Layout(width=largeur)\n",
    ")\n",
    "\n",
    "last_name = widgets.Text(\n",
    "    value='' if use_defaults else user_data[\"last_name\"],\n",
    "    placeholder='Dupond',\n",
    "    description='Nom:',\n",
    "    disabled=False,\n",
    "    layout = Layout(width=largeur)\n",
    ")\n",
    "\n",
    "birth_date = widgets.DatePicker(\n",
    "    value = datetime.now() if use_defaults else saved_birth_date,\n",
    "    description='Né le:',\n",
    "    disabled=False,\n",
    "    layout = Layout(width=largeur)\n",
    ")\n",
    "\n",
    "birth_place = widgets.Text(\n",
    "    value='' if use_defaults else user_data[\"birth_place\"],\n",
    "    placeholder='Paris',\n",
    "    description='À:',\n",
    "    disabled=False,\n",
    "    layout = Layout(width=largeur)\n",
    ")\n",
    "\n",
    "address = widgets.Text(\n",
    "    value='' if use_defaults else user_data[\"address\"],\n",
    "    placeholder='666 avenue de France',\n",
    "    description='Adresse:',\n",
    "    disabled=False,\n",
    "    layout = Layout(width=largeur)\n",
    ")\n",
    "\n",
    "zip_code = widgets.Text(\n",
    "    value='' if use_defaults else user_data[\"zip_code\"],\n",
    "    placeholder='75000',\n",
    "    description='Code postal:',\n",
    "    disabled=False,\n",
    "    layout = Layout(width=largeur)\n",
    ")\n",
    "\n",
    "city = widgets.Text(\n",
    "    value='' if use_defaults else user_data[\"city\"],\n",
    "    placeholder='Paris',\n",
    "    description='Ville:',\n",
    "    disabled=False,\n",
    "    layout = Layout(width=largeur)\n",
    ")\n",
    "\n",
    "reasons = widgets.SelectMultiple(\n",
    "    options=['travail', 'courses', 'sante', 'famille', 'sport', 'judiciaire', 'missions'],\n",
    "    value=['courses'] if use_defaults else user_data[\"reasons\"],\n",
    "    description='Motif de sortie:',\n",
    "    disabled=False,\n",
    "    layout = Layout(width=largeur),\n",
    "    rows = 7,\n",
    ")\n",
    "\n",
    "attestation = widgets.Button(\n",
    "    description='Créer attestation',\n",
    "    disabled=False,\n",
    "    button_style='danger',  # 'success', 'info', 'warning', 'danger' or ''\n",
    "    tooltip=\"Créer l'attestation au format pdf\",\n",
    "    icon='check',\n",
    "    layout=Layout(width='60%', margin='2% 0 0 0'),\n",
    ")\n",
    "\n",
    "\n",
    "out = widgets.Output()\n",
    "\n",
    "w_list = [first_name, last_name, birth_date, birth_place,\n",
    "          address, zip_code, city, reasons, attestation]"
   ]
  },
  {
   "cell_type": "code",
   "execution_count": null,
   "metadata": {},
   "outputs": [],
   "source": [
    "# Arrange all widgets in a 5x2 grid\n",
    "grid = GridspecLayout(6, 2, width='70%')\n",
    "\n",
    "for i in range(2):\n",
    "    for j in range(2):\n",
    "        grid[i, j] = w_list[i*2+j]\n",
    "for i in range(3,6):\n",
    "    grid[i, 0] = w_list[i+1]\n",
    "\n",
    "grid[3:,1] = reasons\n",
    "\n",
    "grid = VBox([grid, attestation])\n",
    "\n",
    "grid = VBox([grid, out])"
   ]
  },
  {
   "cell_type": "code",
   "execution_count": null,
   "metadata": {},
   "outputs": [],
   "source": [
    "# met à jour les données    \n",
    "now = datetime.now()\n",
    "user_data = {}\n",
    "\n",
    "def update_user_data():\n",
    "    global user_data\n",
    "    user_data = {\n",
    "    \"first_name\": first_name.value,\n",
    "    \"last_name\": last_name.value,\n",
    "    \"birth_year\": birth_date.value.year,\n",
    "    \"birth_month\": birth_date.value.month,\n",
    "    \"birth_day\": birth_date.value.day,\n",
    "    \"birth_place\": birth_place.value,\n",
    "    \"address\": address.value,\n",
    "    \"zip_code\": zip_code.value,\n",
    "    \"city\": city.value,\n",
    "    \"reasons\": reasons.value,\n",
    "    \"trip_datetime\": datetime.now() + timedelta(minutes=10),\n",
    "    }"
   ]
  },
  {
   "cell_type": "code",
   "execution_count": null,
   "metadata": {},
   "outputs": [],
   "source": [
    "def on_attestation_clicked(b):\n",
    "    with out:\n",
    "        out.clear_output()\n",
    "        try:\n",
    "            update_user_data()     \n",
    "            #attest = io.BytesIO()\n",
    "            generate_pdf(user_data, output_file=\"attestation.pdf\")\n",
    "            #display(IFrame(\"attestation.pdf\", width=800, height=300))\n",
    "            \n",
    "            with open('user_data', 'wb') as f: #save parameters to disk\n",
    "                pickle.dump(user_data, f)\n",
    "        except AssertionError:\n",
    "            print(\"Erreur: formulaire incomplet.\")\n",
    "\n",
    "attestation.on_click(on_attestation_clicked)"
   ]
  },
  {
   "cell_type": "code",
   "execution_count": null,
   "metadata": {},
   "outputs": [],
   "source": [
    "grid"
   ]
  },
  {
   "cell_type": "code",
   "execution_count": null,
   "metadata": {},
   "outputs": [],
   "source": []
  },
  {
   "cell_type": "code",
   "execution_count": null,
   "metadata": {},
   "outputs": [],
   "source": []
  }
 ],
 "metadata": {
  "hide_input": false,
  "kernelspec": {
   "display_name": "Python 3",
   "language": "python",
   "name": "python3"
  },
  "language_info": {
   "codemirror_mode": {
    "name": "ipython",
    "version": 3
   },
   "file_extension": ".py",
   "mimetype": "text/x-python",
   "name": "python",
   "nbconvert_exporter": "python",
   "pygments_lexer": "ipython3",
   "version": "3.7.6"
  },
  "varInspector": {
   "cols": {
    "lenName": 16,
    "lenType": 16,
    "lenVar": 40
   },
   "kernels_config": {
    "python": {
     "delete_cmd_postfix": "",
     "delete_cmd_prefix": "del ",
     "library": "var_list.py",
     "varRefreshCmd": "print(var_dic_list())"
    },
    "r": {
     "delete_cmd_postfix": ") ",
     "delete_cmd_prefix": "rm(",
     "library": "var_list.r",
     "varRefreshCmd": "cat(var_dic_list()) "
    }
   },
   "types_to_exclude": [
    "module",
    "function",
    "builtin_function_or_method",
    "instance",
    "_Feature"
   ],
   "window_display": false
  }
 },
 "nbformat": 4,
 "nbformat_minor": 4
}
