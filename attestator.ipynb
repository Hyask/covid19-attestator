{
 "cells": [
  {
   "cell_type": "code",
   "execution_count": 1,
   "metadata": {},
   "outputs": [],
   "source": [
    "import ipywidgets as widgets\n",
    "from ipywidgets import GridspecLayout, Layout, HBox, VBox\n",
    "from datetime import datetime, timedelta\n",
    "from IPython.display import IFrame\n",
    "import attestator\n",
    "import pickle"
   ]
  },
  {
   "cell_type": "code",
   "execution_count": 2,
   "metadata": {},
   "outputs": [],
   "source": [
    "# Define all widgets\n",
    "use_defaults = False\n",
    "try:\n",
    "    with open('user_data', 'rb') as f:\n",
    "        user_data = pickle.load(f)\n",
    "    date_str = str(user_data[\"birth_year\"]) +'-'+ str(user_data[\"birth_month\"]) +'-'+ str(user_data[\"birth_day\"])\n",
    "    saved_birth_date = datetime.strptime(date_str, '%Y-%m-%d')\n",
    "except:\n",
    "    use_defaults = True\n",
    "\n",
    "largeur = '70%'\n",
    "\n",
    "first_name = widgets.Text(\n",
    "    value='' if use_defaults else user_data[\"first_name\"],\n",
    "    placeholder='Jean',\n",
    "    description='Prénom:',\n",
    "    disabled=False,\n",
    "    layout = Layout(width=largeur)\n",
    ")\n",
    "\n",
    "last_name = widgets.Text(\n",
    "    value='' if use_defaults else user_data[\"last_name\"],\n",
    "    placeholder='Dupond',\n",
    "    description='Nom:',\n",
    "    disabled=False,\n",
    "    layout = Layout(width=largeur)\n",
    ")\n",
    "\n",
    "birth_date = widgets.DatePicker(\n",
    "    value = datetime.now() if use_defaults else saved_birth_date,\n",
    "    description='Né le:',\n",
    "    disabled=False,\n",
    "    layout = Layout(width=largeur)\n",
    ")\n",
    "\n",
    "birth_place = widgets.Text(\n",
    "    value='' if use_defaults else user_data[\"birth_place\"],\n",
    "    placeholder='Paris',\n",
    "    description='À:',\n",
    "    disabled=False,\n",
    "    layout = Layout(width=largeur)\n",
    ")\n",
    "\n",
    "address = widgets.Text(\n",
    "    value='' if use_defaults else user_data[\"address\"],\n",
    "    placeholder='666 avenue de France',\n",
    "    description='Adresse:',\n",
    "    disabled=False,\n",
    "    layout = Layout(width=largeur)\n",
    ")\n",
    "\n",
    "zip_code = widgets.Text(\n",
    "    value='' if use_defaults else user_data[\"zip_code\"],\n",
    "    placeholder='75000',\n",
    "    description='Code postal:',\n",
    "    disabled=False,\n",
    "    layout = Layout(width=largeur)\n",
    ")\n",
    "\n",
    "city = widgets.Text(\n",
    "    value='' if use_defaults else user_data[\"city\"],\n",
    "    placeholder='Paris',\n",
    "    description='Ville:',\n",
    "    disabled=False,\n",
    "    layout = Layout(width=largeur)\n",
    ")\n",
    "\n",
    "reasons = widgets.Dropdown(\n",
    "    options=['travail', 'courses', 'sante', 'famille', 'sport', 'judiciaire', 'missions'],\n",
    "    value='courses' if use_defaults else user_data[\"reasons\"],\n",
    "    description='Motif de sortie:',\n",
    "    disabled=False,\n",
    "    layout = Layout(width=largeur)\n",
    ")\n",
    "\n",
    "attestation = widgets.Button(\n",
    "    description='Créer attestation',\n",
    "    disabled=False,\n",
    "    button_style='danger',  # 'success', 'info', 'warning', 'danger' or ''\n",
    "    tooltip=\"Créer l'attesation au format pdf\",\n",
    "    icon='check',\n",
    "    layout=Layout(width='45%', margin='2% 0 0 26%'),\n",
    ")\n",
    "\n",
    "save_defaults = widgets.Button(\n",
    "    description='Enregistrer valeurs',\n",
    "    disabled=False,\n",
    "    button_style='info',  # 'success', 'info', 'warning', 'danger' or ''\n",
    "    tooltip=\"Enregistre ces valeurs par défaut\",\n",
    "    icon='check',\n",
    "    layout=Layout(width = '45%', margin='2% 0 0 26%'),\n",
    ")\n",
    "\n",
    "out = widgets.Output()\n",
    "\n",
    "w_list = [first_name, last_name, birth_date, birth_place,\n",
    "          address, zip_code, city, reasons, attestation, save_defaults]"
   ]
  },
  {
   "cell_type": "code",
   "execution_count": 3,
   "metadata": {},
   "outputs": [],
   "source": [
    "# Arrange all widgets in a 5x2 grid\n",
    "grid = GridspecLayout(5, 2, width='70%')\n",
    "\n",
    "for i in range(5):\n",
    "    for j in range(2):\n",
    "        grid[i, j] = w_list[i*2+j]\n",
    "grid = VBox([grid, out])"
   ]
  },
  {
   "cell_type": "code",
   "execution_count": 4,
   "metadata": {},
   "outputs": [],
   "source": [
    "user_data = {\n",
    "    \"first_name\": first_name.value,\n",
    "    \"last_name\": last_name.value,\n",
    "    \"birth_year\": birth_date.value.year,\n",
    "    \"birth_month\": birth_date.value.month,\n",
    "    \"birth_day\": birth_date.value.day,\n",
    "    \"birth_place\": birth_place.value,\n",
    "    \"address\": address.value,\n",
    "    \"zip_code\": zip_code.value,\n",
    "    \"city\": city.value,\n",
    "    \"reasons\": reasons.value,\n",
    "    \"trip_datetime\": datetime.now() + timedelta(minutes=10),\n",
    "}\n",
    "\n",
    "\n",
    "now = datetime.now()"
   ]
  },
  {
   "cell_type": "code",
   "execution_count": 5,
   "metadata": {},
   "outputs": [],
   "source": [
    "# met à jour les données    \n",
    "def update_user_data():\n",
    "    global user_data\n",
    "    user_data = {\n",
    "    \"first_name\": first_name.value,\n",
    "    \"last_name\": last_name.value,\n",
    "    \"birth_year\": birth_date.value.year,\n",
    "    \"birth_month\": birth_date.value.month,\n",
    "    \"birth_day\": birth_date.value.day,\n",
    "    \"birth_place\": birth_place.value,\n",
    "    \"address\": address.value,\n",
    "    \"zip_code\": zip_code.value,\n",
    "    \"city\": city.value,\n",
    "    \"reasons\": reasons.value,\n",
    "    \"trip_datetime\": datetime.now() + timedelta(minutes=10),\n",
    "    }"
   ]
  },
  {
   "cell_type": "code",
   "execution_count": 10,
   "metadata": {},
   "outputs": [],
   "source": [
    "def on_attestation_clicked(b):\n",
    "    with out:\n",
    "        out.clear_output()\n",
    "        try:\n",
    "            update_user_data()\n",
    "            attestator.generate_pdf(user_data)\n",
    "            print(\"'attestation.pdf' a été généré.\")\n",
    "        except AssertionError:\n",
    "            print(\"Erreur: formulaire incomplet.\")\n",
    "\n",
    "attestation.on_click(on_attestation_clicked)\n",
    "\n",
    "def on_save_defaults_clicked(b):\n",
    "    update_user_data()\n",
    "    with open('user_data', 'wb') as f:\n",
    "        pickle.dump(user_data, f)\n",
    "    with out:\n",
    "        out.clear_output()\n",
    "        print(\"Valeurs par défauts enregistrées.\")\n",
    "\n",
    "save_defaults.on_click(on_save_defaults_clicked)"
   ]
  },
  {
   "cell_type": "code",
   "execution_count": 11,
   "metadata": {},
   "outputs": [
    {
     "data": {
      "application/vnd.jupyter.widget-view+json": {
       "model_id": "7a9ad85058a94826a5c6087613c42f3a",
       "version_major": 2,
       "version_minor": 0
      },
      "text/plain": [
       "VBox(children=(GridspecLayout(children=(Text(value='', description='Prénom:', layout=Layout(grid_area='widget0…"
      ]
     },
     "metadata": {},
     "output_type": "display_data"
    },
    {
     "ename": "NameError",
     "evalue": "name 'img' is not defined",
     "output_type": "error",
     "traceback": [
      "\u001b[0;31m---------------------------------------------------------------------------\u001b[0m",
      "\u001b[0;31mNameError\u001b[0m                                 Traceback (most recent call last)",
      "\u001b[0;32m<ipython-input-6-9c142af9768b>\u001b[0m in \u001b[0;36mon_attestation_clicked\u001b[0;34m(b)\u001b[0m\n\u001b[1;32m      8\u001b[0m         \u001b[0;32mexcept\u001b[0m \u001b[0mAssertionError\u001b[0m\u001b[0;34m:\u001b[0m\u001b[0;34m\u001b[0m\u001b[0;34m\u001b[0m\u001b[0m\n\u001b[1;32m      9\u001b[0m             \u001b[0mprint\u001b[0m\u001b[0;34m(\u001b[0m\u001b[0;34m\"Erreur: formulaire incomplet.\"\u001b[0m\u001b[0;34m)\u001b[0m\u001b[0;34m\u001b[0m\u001b[0;34m\u001b[0m\u001b[0m\n\u001b[0;32m---> 10\u001b[0;31m     \u001b[0;32mreturn\u001b[0m \u001b[0mimg\u001b[0m\u001b[0;34m\u001b[0m\u001b[0;34m\u001b[0m\u001b[0m\n\u001b[0m\u001b[1;32m     11\u001b[0m \u001b[0;34m\u001b[0m\u001b[0m\n\u001b[1;32m     12\u001b[0m \u001b[0mattestation\u001b[0m\u001b[0;34m.\u001b[0m\u001b[0mon_click\u001b[0m\u001b[0;34m(\u001b[0m\u001b[0mon_attestation_clicked\u001b[0m\u001b[0;34m)\u001b[0m\u001b[0;34m\u001b[0m\u001b[0;34m\u001b[0m\u001b[0m\n",
      "\u001b[0;31mNameError\u001b[0m: name 'img' is not defined"
     ]
    },
    {
     "ename": "NameError",
     "evalue": "name 'img' is not defined",
     "output_type": "error",
     "traceback": [
      "\u001b[0;31m---------------------------------------------------------------------------\u001b[0m",
      "\u001b[0;31mNameError\u001b[0m                                 Traceback (most recent call last)",
      "\u001b[0;32m<ipython-input-6-9c142af9768b>\u001b[0m in \u001b[0;36mon_attestation_clicked\u001b[0;34m(b)\u001b[0m\n\u001b[1;32m      8\u001b[0m         \u001b[0;32mexcept\u001b[0m \u001b[0mAssertionError\u001b[0m\u001b[0;34m:\u001b[0m\u001b[0;34m\u001b[0m\u001b[0;34m\u001b[0m\u001b[0m\n\u001b[1;32m      9\u001b[0m             \u001b[0mprint\u001b[0m\u001b[0;34m(\u001b[0m\u001b[0;34m\"Erreur: formulaire incomplet.\"\u001b[0m\u001b[0;34m)\u001b[0m\u001b[0;34m\u001b[0m\u001b[0;34m\u001b[0m\u001b[0m\n\u001b[0;32m---> 10\u001b[0;31m     \u001b[0;32mreturn\u001b[0m \u001b[0mimg\u001b[0m\u001b[0;34m\u001b[0m\u001b[0;34m\u001b[0m\u001b[0m\n\u001b[0m\u001b[1;32m     11\u001b[0m \u001b[0;34m\u001b[0m\u001b[0m\n\u001b[1;32m     12\u001b[0m \u001b[0mattestation\u001b[0m\u001b[0;34m.\u001b[0m\u001b[0mon_click\u001b[0m\u001b[0;34m(\u001b[0m\u001b[0mon_attestation_clicked\u001b[0m\u001b[0;34m)\u001b[0m\u001b[0;34m\u001b[0m\u001b[0;34m\u001b[0m\u001b[0m\n",
      "\u001b[0;31mNameError\u001b[0m: name 'img' is not defined"
     ]
    }
   ],
   "source": [
    "grid"
   ]
  },
  {
   "cell_type": "code",
   "execution_count": 8,
   "metadata": {
    "scrolled": false
   },
   "outputs": [
    {
     "data": {
      "text/html": [
       "\n",
       "        <iframe\n",
       "            width=\"800\"\n",
       "            height=\"300\"\n",
       "            src=\"attestation.pdf\"\n",
       "            frameborder=\"0\"\n",
       "            allowfullscreen\n",
       "        ></iframe>\n",
       "        "
      ],
      "text/plain": [
       "<IPython.lib.display.IFrame at 0x7f4ebd580e10>"
      ]
     },
     "execution_count": 8,
     "metadata": {},
     "output_type": "execute_result"
    }
   ],
   "source": [
    "IFrame(\"attestation.pdf\", width=800, height=300)"
   ]
  },
  {
   "cell_type": "code",
   "execution_count": null,
   "metadata": {},
   "outputs": [],
   "source": []
  }
 ],
 "metadata": {
  "hide_input": false,
  "kernelspec": {
   "display_name": "Python 3",
   "language": "python",
   "name": "python3"
  },
  "language_info": {
   "codemirror_mode": {
    "name": "ipython",
    "version": 3
   },
   "file_extension": ".py",
   "mimetype": "text/x-python",
   "name": "python",
   "nbconvert_exporter": "python",
   "pygments_lexer": "ipython3",
   "version": "3.7.6"
  },
  "varInspector": {
   "cols": {
    "lenName": 16,
    "lenType": 16,
    "lenVar": 40
   },
   "kernels_config": {
    "python": {
     "delete_cmd_postfix": "",
     "delete_cmd_prefix": "del ",
     "library": "var_list.py",
     "varRefreshCmd": "print(var_dic_list())"
    },
    "r": {
     "delete_cmd_postfix": ") ",
     "delete_cmd_prefix": "rm(",
     "library": "var_list.r",
     "varRefreshCmd": "cat(var_dic_list()) "
    }
   },
   "types_to_exclude": [
    "module",
    "function",
    "builtin_function_or_method",
    "instance",
    "_Feature"
   ],
   "window_display": false
  }
 },
 "nbformat": 4,
 "nbformat_minor": 4
}
